{
  "metadata": {
    "kernelspec": {
      "display_name": "Python 3",
      "language": "python",
      "name": "python3"
    },
    "language_info": {
      "codemirror_mode": {
        "name": "ipython",
        "version": 3
      },
      "file_extension": ".py",
      "mimetype": "text/x-python",
      "name": "python",
      "nbconvert_exporter": "python",
      "pygments_lexer": "ipython3",
      "version": "3.5.2"
    }
  },
  "nbformat": 4,
  "nbformat_minor": 0,
  "cells": [
    {
      "cell_type": "code",
      "source": "import numpy as np # linear algebra\nimport pandas as pd # data processing, CSV file I/O (e.g. pd.read_csv)\nimport matplotlib.pyplot as plt\nfrom mpl_toolkits.basemap import Basemap",
      "execution_count": null,
      "outputs": [],
      "metadata": {}
    },
    {
      "cell_type": "code",
      "source": "uber_data = pd.read_csv('../input/uber-raw-data-sep14.csv')",
      "execution_count": null,
      "outputs": [],
      "metadata": {}
    },
    {
      "cell_type": "code",
      "source": "uber_data.head()",
      "execution_count": null,
      "outputs": [],
      "metadata": {}
    },
    {
      "cell_type": "code",
      "source": "subset =  uber_data.sample(frac=0.01, replace=False)\nx, y = (subset['Lon'].values, subset['Lat'].values)",
      "execution_count": null,
      "outputs": [],
      "metadata": {}
    },
    {
      "cell_type": "code",
      "source": "plt.figure(figsize=(10, 10))\n# Create a map on which to draw.  We're using a mercator projection, and showing the whole world.\nm = Basemap(projection='merc',\n            llcrnrlat=40.55,urcrnrlat=40.9,llcrnrlon=-74.2,urcrnrlon=-73.8,lat_ts=40.7,resolution='h')\n# Draw coastlines, and the edges of the map.\nm.scatter(x,y,1,marker='.',color='red', latlon=True, alpha=0.1)\nm.drawcoastlines()\nm.fillcontinents(color='#ece7de', lake_color='#a3ccff', zorder=0)\nm.drawrivers()\nm.drawmapboundary(fill_color='#a3ccff')\nplt.show()",
      "execution_count": null,
      "outputs": [],
      "metadata": {}
    },
    {
      "cell_type": "code",
      "source": null,
      "execution_count": null,
      "outputs": [],
      "metadata": {}
    }
  ]
}