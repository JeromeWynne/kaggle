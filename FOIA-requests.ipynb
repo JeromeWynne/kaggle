{
  "metadata": {
    "kernelspec": {
      "display_name": "Python 3",
      "language": "python",
      "name": "python3"
    },
    "language_info": {
      "codemirror_mode": {
        "name": "ipython",
        "version": 3
      },
      "file_extension": ".py",
      "mimetype": "text/x-python",
      "name": "python",
      "nbconvert_exporter": "python",
      "pygments_lexer": "ipython3",
      "version": "3.5.2"
    }
  },
  "nbformat": 4,
  "nbformat_minor": 0,
  "cells": [
    {
      "cell_type": "markdown",
      "source": "A brief on US Agency initialisms (in case you aren't familiar with them!):\n - DHS: Department of Homeland Security\n - DOD: Department of Defense\n - DOJ: Department of Justice\n - HHS: Health and Human Services\n - VA: Veterans' Affairs\n - DOL: Department of labor\n - State:  -\n - Treasury: -\n - USDA: Deparment of Agriculture\n - DOT: Department of Transport\n - DOI: Department of the Interior\n - HUD: Housing and Urban Development\n - ED: Education Department\n - DOE: Department of Energy\n - DOC: Department of Commerce",
      "execution_count": null,
      "outputs": [],
      "metadata": {}
    },
    {
      "cell_type": "code",
      "source": "import numpy as np # linear algebra\nimport pandas as pd # data processing, CSV file I/O (e.g. pd.read_csv)\nimport seaborn as sns\nimport matplotlib\nimport matplotlib.pyplot as plt\ndata = pd.read_csv('../input/requests.csv')",
      "execution_count": null,
      "outputs": [],
      "metadata": {}
    },
    {
      "cell_type": "code",
      "source": "matplotlib.style.use('ggplot')\ndata.groupby('Agency')['Requests Received'].sum().sort_values(ascending=False).plot(kind='bar',\n                                                                                   cmap='viridis',\n                                                                                   hue='Agency')\nplt.title('FOIA requests received by agency, all years');",
      "execution_count": null,
      "outputs": [],
      "metadata": {}
    },
    {
      "cell_type": "markdown",
      "source": " - DHS: Department of Homeland Security\n - DOD: Department of Defense\n - DOJ: Department of Justice\n - HHS: Health and Human Services\n - VA: Veterans' Affairs\n - DOL: Department of labor\n - State:  -\n - Treasury: -\n - USDA: Deparment of Agriculture\n - DOT: Department of Transport\n - DOI: Department of the Interior\n - HUD: Housing and Urban Development\n - ED: Education Department\n - DOE: Department of Energy\n - DOC: Department of Commerce",
      "execution_count": null,
      "outputs": [],
      "metadata": {}
    },
    {
      "cell_type": "code",
      "source": "# Sum requests over agency\nby_year = data.groupby(['Year', 'Agency']).sum().reset_index().pivot(index='Year',\n                                                                     columns='Agency',\n                                                                     values='Requests Received')\nby_year.plot.barh(stacked=True, cmap='viridis')\nplt.title('Requests Received by Agency', fontsize=12, loc='left', fontweight='bold')\nplt.xlim([0, 800000])\nplt.legend();",
      "execution_count": null,
      "outputs": [],
      "metadata": {}
    }
  ]
}